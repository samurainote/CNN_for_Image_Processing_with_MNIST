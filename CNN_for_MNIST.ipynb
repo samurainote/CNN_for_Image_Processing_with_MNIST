{
 "cells": [
  {
   "cell_type": "markdown",
   "metadata": {},
   "source": [
    "# Convolutional Neural Network\n",
    "\n",
    "2019.01.12"
   ]
  },
  {
   "cell_type": "markdown",
   "metadata": {},
   "source": [
    "![](https://i.stack.imgur.com/ZgG1Z.png)"
   ]
  },
  {
   "cell_type": "markdown",
   "metadata": {},
   "source": [
    "### まとめ\n",
    "- CNNのアーキテクチャーは3Dだが、画像データ自体は（サンプル枚数、行、列、チャネル）の4Dにリシェイプする\n",
    "- SimpleNNではアーキテクチャが1D（行列）、画像データ自体は（サンプル枚数、行列）の2Dにリシェイプした\n",
    "- ModelsのNNアーキテクチャの選択（Conv1D, Conv2D）によってリシェイプする"
   ]
  },
  {
   "cell_type": "markdown",
   "metadata": {},
   "source": [
    "## Process\n",
    "1. Preprocess Data\n",
    "2. Reshape and Scaling Features Data\n",
    "3. Reshape and Encode Target Data\n",
    "4. Build and Compile A Model\n",
    "5. Fit Training and Validation Data to Model\n",
    "6. Evaluate Model"
   ]
  },
  {
   "cell_type": "markdown",
   "metadata": {},
   "source": [
    "## 1-3. Preprocess Data"
   ]
  },
  {
   "cell_type": "code",
   "execution_count": 5,
   "metadata": {},
   "outputs": [],
   "source": [
    "from keras.datasets import mnist\n",
    "import numpy as np\n",
    "(train_images, train_labels), (test_images, test_labels) = mnist.load_data()"
   ]
  },
  {
   "cell_type": "code",
   "execution_count": 6,
   "metadata": {},
   "outputs": [
    {
     "name": "stdout",
     "output_type": "stream",
     "text": [
      "train_images (60000, 28, 28)\n",
      "train_labels (60000,)\n"
     ]
    }
   ],
   "source": [
    "print(\"train_images\", train_images.shape)\n",
    "print(\"train_labels\", train_labels.shape)"
   ]
  },
  {
   "cell_type": "code",
   "execution_count": 8,
   "metadata": {},
   "outputs": [
    {
     "name": "stdout",
     "output_type": "stream",
     "text": [
      "test_images (10000, 28, 28)\n",
      "test_labels (10000,)\n"
     ]
    }
   ],
   "source": [
    "print(\"test_images\", test_images.shape)\n",
    "print(\"test_labels\", test_labels.shape)"
   ]
  },
  {
   "cell_type": "code",
   "execution_count": 11,
   "metadata": {},
   "outputs": [
    {
     "data": {
      "text/plain": [
       "255"
      ]
     },
     "execution_count": 11,
     "metadata": {},
     "output_type": "execute_result"
    }
   ],
   "source": [
    "train_images.max()"
   ]
  },
  {
   "cell_type": "code",
   "execution_count": 12,
   "metadata": {},
   "outputs": [
    {
     "data": {
      "text/plain": [
       "0"
      ]
     },
     "execution_count": 12,
     "metadata": {},
     "output_type": "execute_result"
    }
   ],
   "source": [
    "train_images.min()"
   ]
  },
  {
   "cell_type": "markdown",
   "metadata": {},
   "source": [
    "We add chanel to Features Data  \n",
    "- 特徴データは、（サンプル数、行ピクセル、列ピクセル、カラーチャネル）の４次元テンソルにする\n",
    "- ターゲットデータは、（サンプル数、クラス数）の２次元テンソルにする"
   ]
  },
  {
   "cell_type": "code",
   "execution_count": 9,
   "metadata": {},
   "outputs": [],
   "source": [
    "train_images = train_images.reshape(((60000, 28, 28, 1)))\n",
    "test_images = test_images.reshape((10000, 28, 28, 1))"
   ]
  },
  {
   "cell_type": "code",
   "execution_count": 13,
   "metadata": {},
   "outputs": [],
   "source": [
    "train_images = train_images.astype(\"float32\") / 255\n",
    "test_images = test_images.astype(\"float32\") / 255"
   ]
  },
  {
   "cell_type": "code",
   "execution_count": 14,
   "metadata": {},
   "outputs": [],
   "source": [
    "from keras.utils import to_categorical\n",
    "train_labels = to_categorical(train_labels)\n",
    "test_labels = to_categorical(test_labels)"
   ]
  },
  {
   "cell_type": "code",
   "execution_count": 16,
   "metadata": {},
   "outputs": [
    {
     "name": "stdout",
     "output_type": "stream",
     "text": [
      "(60000, 28, 28, 1)\n",
      "(60000, 10)\n"
     ]
    }
   ],
   "source": [
    "print(train_images.shape)\n",
    "print(train_labels.shape)"
   ]
  },
  {
   "cell_type": "markdown",
   "metadata": {},
   "source": [
    "Now we got 4D Features and 2D Target Data"
   ]
  },
  {
   "cell_type": "markdown",
   "metadata": {},
   "source": [
    "### 注意：モデルのアーキテクチャでは、サンプル数やミニバッチ数は考慮されない"
   ]
  },
  {
   "cell_type": "markdown",
   "metadata": {},
   "source": [
    "- 3Dでインプットされた画像は、畳み込み層とプーリング層まで3Dで処理される\n",
    "- アウトプットは、10クラスの1DベクトルなのでFlattenする必要がある"
   ]
  },
  {
   "cell_type": "markdown",
   "metadata": {},
   "source": [
    "## 4. Build a CNN Model\n",
    "\n",
    "- Input tensors of shape `(image_height, image_width, image_channels)` (not including the batch dimension). \n",
    "- Inputs of size `(28, 28, 1)`, which is the format of `input_shape=(28, 28, 1)` to our first layer."
   ]
  },
  {
   "cell_type": "code",
   "execution_count": 23,
   "metadata": {},
   "outputs": [],
   "source": [
    "from keras.models import Sequential\n",
    "from keras.layers import Conv2D, MaxPooling2D\n",
    "\n",
    "model = Sequential()\n",
    "model.add(Conv2D(filters=32, kernel_size=(3, 3), activation='relu', input_shape=(28, 28, 1))) # pixel, pixel, channel\n",
    "model.add(MaxPooling2D(pool_size=(2, 2)))\n",
    "model.add(Conv2D(filters=64, kernel_size=(3, 3), activation='relu'))\n",
    "model.add(MaxPooling2D(pool_size=(2, 2)))\n",
    "model.add(Conv2D(filters=64, kernel_size=(3, 3), activation='relu'))"
   ]
  },
  {
   "cell_type": "code",
   "execution_count": 20,
   "metadata": {},
   "outputs": [
    {
     "name": "stdout",
     "output_type": "stream",
     "text": [
      "_________________________________________________________________\n",
      "Layer (type)                 Output Shape              Param #   \n",
      "=================================================================\n",
      "conv2d_4 (Conv2D)            (None, 26, 26, 32)        320       \n",
      "_________________________________________________________________\n",
      "max_pooling2d_3 (MaxPooling2 (None, 13, 13, 32)        0         \n",
      "_________________________________________________________________\n",
      "conv2d_5 (Conv2D)            (None, 11, 11, 64)        18496     \n",
      "_________________________________________________________________\n",
      "max_pooling2d_4 (MaxPooling2 (None, 5, 5, 64)          0         \n",
      "_________________________________________________________________\n",
      "conv2d_6 (Conv2D)            (None, 3, 3, 64)          36928     \n",
      "=================================================================\n",
      "Total params: 55,744\n",
      "Trainable params: 55,744\n",
      "Non-trainable params: 0\n",
      "_________________________________________________________________\n"
     ]
    }
   ],
   "source": [
    "model.summary()"
   ]
  },
  {
   "cell_type": "markdown",
   "metadata": {},
   "source": [
    "### 分類問題はベクトル \n",
    "- The output of every `Conv2D` and `MaxPooling2D` layer is a 3D tensor of shape `(height, width, channels)`.\n",
    "- The width and height dimensions tend to shrink as we go deeper in the network.\n",
    "- The number of channels is controlled by the first argument passed to the `Conv2D` layers (e.g. 32 or 64).\n",
    "\n",
    "- The next step would be to feed our last output tensor (of shape `(3, 3, 64)`) into a densely-connected\n",
    "- These classifiers process vectors, which are 1D, whereas our current output is a 3D tensor. \n",
    "- So first, we will have to flatten our 3D outputs to 1D, and then add a few `Dense` layers on top:"
   ]
  },
  {
   "cell_type": "code",
   "execution_count": 24,
   "metadata": {},
   "outputs": [],
   "source": [
    "from keras.layers import Flatten, Dense\n",
    "model.add(Flatten())\n",
    "model.add(Dense(64, activation='relu'))\n",
    "model.add(Dense(10, activation='softmax'))"
   ]
  },
  {
   "cell_type": "code",
   "execution_count": 25,
   "metadata": {
    "scrolled": true
   },
   "outputs": [
    {
     "name": "stdout",
     "output_type": "stream",
     "text": [
      "_________________________________________________________________\n",
      "Layer (type)                 Output Shape              Param #   \n",
      "=================================================================\n",
      "conv2d_7 (Conv2D)            (None, 26, 26, 32)        320       \n",
      "_________________________________________________________________\n",
      "max_pooling2d_5 (MaxPooling2 (None, 13, 13, 32)        0         \n",
      "_________________________________________________________________\n",
      "conv2d_8 (Conv2D)            (None, 11, 11, 64)        18496     \n",
      "_________________________________________________________________\n",
      "max_pooling2d_6 (MaxPooling2 (None, 5, 5, 64)          0         \n",
      "_________________________________________________________________\n",
      "conv2d_9 (Conv2D)            (None, 3, 3, 64)          36928     \n",
      "_________________________________________________________________\n",
      "flatten_5 (Flatten)          (None, 576)               0         \n",
      "_________________________________________________________________\n",
      "dense_1 (Dense)              (None, 64)                36928     \n",
      "_________________________________________________________________\n",
      "dense_2 (Dense)              (None, 10)                650       \n",
      "=================================================================\n",
      "Total params: 93,322\n",
      "Trainable params: 93,322\n",
      "Non-trainable params: 0\n",
      "_________________________________________________________________\n"
     ]
    }
   ],
   "source": [
    "model.summary()"
   ]
  },
  {
   "cell_type": "code",
   "execution_count": 30,
   "metadata": {},
   "outputs": [],
   "source": [
    "model.compile(optimizer='rmsprop',\n",
    "              loss='categorical_crossentropy',\n",
    "              metrics=['accuracy'])"
   ]
  },
  {
   "cell_type": "markdown",
   "metadata": {},
   "source": [
    "## 5. Fit Training and Validation Data to Model"
   ]
  },
  {
   "cell_type": "code",
   "execution_count": 31,
   "metadata": {
    "scrolled": true
   },
   "outputs": [
    {
     "name": "stdout",
     "output_type": "stream",
     "text": [
      "Epoch 1/5\n",
      "60000/60000 [==============================] - 63s 1ms/step - loss: 0.1721 - acc: 0.9459\n",
      "Epoch 2/5\n",
      "60000/60000 [==============================] - 52s 868us/step - loss: 0.0497 - acc: 0.9843\n",
      "Epoch 3/5\n",
      "60000/60000 [==============================] - 52s 871us/step - loss: 0.0345 - acc: 0.9893\n",
      "Epoch 4/5\n",
      "60000/60000 [==============================] - 52s 868us/step - loss: 0.0253 - acc: 0.9919\n",
      "Epoch 5/5\n",
      "60000/60000 [==============================] - 52s 872us/step - loss: 0.0203 - acc: 0.9938\n"
     ]
    }
   ],
   "source": [
    "histry = model.fit(train_images, train_labels, epochs=5, batch_size=64)"
   ]
  },
  {
   "cell_type": "code",
   "execution_count": 36,
   "metadata": {},
   "outputs": [
    {
     "data": {
      "text/plain": [
       "<keras.callbacks.History at 0x13c368f98>"
      ]
     },
     "execution_count": 36,
     "metadata": {},
     "output_type": "execute_result"
    }
   ],
   "source": [
    "histry"
   ]
  },
  {
   "cell_type": "code",
   "execution_count": 32,
   "metadata": {},
   "outputs": [],
   "source": [
    "import matplotlib.pyplot as plt\n",
    "%matplotlib inline"
   ]
  },
  {
   "cell_type": "code",
   "execution_count": 35,
   "metadata": {},
   "outputs": [
    {
     "data": {
      "image/png": "[encoded data removed]",
      "text/plain": [
       "<Figure size 432x288 with 1 Axes>"
      ]
     },
     "metadata": {
      "needs_background": "light"
     },
     "output_type": "display_data"
    }
   ],
   "source": [
    "# summarize history for loss\n",
    "plt.plot(histry.history['loss'])\n",
    "plt.title('model loss')\n",
    "plt.ylabel('loss')\n",
    "plt.xlabel('epoch')\n",
    "plt.legend(['training'], loc='upper left')\n",
    "plt.show()"
   ]
  },
  {
   "cell_type": "code",
   "execution_count": 34,
   "metadata": {},
   "outputs": [
    {
     "data": {
      "image/png": "[encoded data removed]",
      "text/plain": [
       "<Figure size 432x288 with 1 Axes>"
      ]
     },
     "metadata": {
      "needs_background": "light"
     },
     "output_type": "display_data"
    }
   ],
   "source": [
    "# summarize history for accuracy\n",
    "# metrics=['accuracy']\n",
    "plt.plot(histry.history['acc'])\n",
    "plt.title('model accuracy')\n",
    "plt.ylabel('accuracy')\n",
    "plt.xlabel('epoch')\n",
    "plt.legend('training', loc='upper left')\n",
    "plt.show()"
   ]
  },
  {
   "cell_type": "markdown",
   "metadata": {},
   "source": [
    "## Advanced: Hyperparameter Tuning"
   ]
  },
  {
   "cell_type": "code",
   "execution_count": 40,
   "metadata": {},
   "outputs": [
    {
     "name": "stdout",
     "output_type": "stream",
     "text": [
      "epochs is 5 batch_size is 32\n",
      "Epoch 1/5\n",
      "60000/60000 [==============================] - 57s 950us/step - loss: 0.0155 - acc: 0.9953\n",
      "Epoch 2/5\n",
      "60000/60000 [==============================] - 60s 993us/step - loss: 0.0136 - acc: 0.9963\n",
      "Epoch 3/5\n",
      "60000/60000 [==============================] - 59s 990us/step - loss: 0.0120 - acc: 0.9968\n",
      "Epoch 4/5\n",
      "60000/60000 [==============================] - 61s 1ms/step - loss: 0.0111 - acc: 0.9972\n",
      "Epoch 5/5\n",
      "60000/60000 [==============================] - 60s 1ms/step - loss: 0.0098 - acc: 0.9974\n",
      "epochs is 10 batch_size is 32\n",
      "Epoch 1/10\n",
      "60000/60000 [==============================] - 60s 1ms/step - loss: 0.0087 - acc: 0.9981\n",
      "Epoch 2/10\n",
      "60000/60000 [==============================] - 61s 1ms/step - loss: 0.0078 - acc: 0.9980\n",
      "Epoch 3/10\n",
      "60000/60000 [==============================] - 62s 1ms/step - loss: 0.0083 - acc: 0.9981\n",
      "Epoch 4/10\n",
      "60000/60000 [==============================] - 65s 1ms/step - loss: 0.0085 - acc: 0.9982\n",
      "Epoch 5/10\n",
      "60000/60000 [==============================] - 60s 1ms/step - loss: 0.0079 - acc: 0.9982\n",
      "Epoch 6/10\n",
      "60000/60000 [==============================] - 57s 942us/step - loss: 0.0063 - acc: 0.9985\n",
      "Epoch 7/10\n",
      "60000/60000 [==============================] - 59s 980us/step - loss: 0.0066 - acc: 0.9985\n",
      "Epoch 8/10\n",
      "60000/60000 [==============================] - 67s 1ms/step - loss: 0.0073 - acc: 0.9985\n",
      "Epoch 9/10\n",
      "60000/60000 [==============================] - 64s 1ms/step - loss: 0.0044 - acc: 0.9990\n",
      "Epoch 10/10\n",
      "60000/60000 [==============================] - 62s 1ms/step - loss: 0.0051 - acc: 0.9989\n",
      "epochs is 15 batch_size is 32\n",
      "Epoch 1/15\n",
      "60000/60000 [==============================] - 63s 1ms/step - loss: 0.0072 - acc: 0.9986\n",
      "Epoch 2/15\n",
      "60000/60000 [==============================] - 73s 1ms/step - loss: 0.0061 - acc: 0.9991\n",
      "Epoch 3/15\n",
      "60000/60000 [==============================] - 67s 1ms/step - loss: 0.0045 - acc: 0.9992\n",
      "Epoch 4/15\n",
      "60000/60000 [==============================] - 66s 1ms/step - loss: 0.0056 - acc: 0.9990\n",
      "Epoch 5/15\n",
      "60000/60000 [==============================] - 61s 1ms/step - loss: 0.0049 - acc: 0.9991\n",
      "Epoch 6/15\n",
      "60000/60000 [==============================] - 61s 1ms/step - loss: 0.0051 - acc: 0.9992\n",
      "Epoch 7/15\n",
      "60000/60000 [==============================] - 57s 956us/step - loss: 0.0040 - acc: 0.9992\n",
      "Epoch 8/15\n",
      "60000/60000 [==============================] - 53s 884us/step - loss: 0.0056 - acc: 0.9990\n",
      "Epoch 9/15\n",
      "60000/60000 [==============================] - 60s 1ms/step - loss: 0.0035 - acc: 0.9994\n",
      "Epoch 10/15\n",
      "60000/60000 [==============================] - 60s 1ms/step - loss: 0.0044 - acc: 0.9993\n",
      "Epoch 11/15\n",
      "60000/60000 [==============================] - 55s 920us/step - loss: 0.0042 - acc: 0.9994\n",
      "Epoch 12/15\n",
      "60000/60000 [==============================] - 58s 960us/step - loss: 0.0034 - acc: 0.9994\n",
      "Epoch 13/15\n",
      "60000/60000 [==============================] - 62s 1ms/step - loss: 0.0033 - acc: 0.9996\n",
      "Epoch 14/15\n",
      "60000/60000 [==============================] - 64s 1ms/step - loss: 0.0035 - acc: 0.9995\n",
      "Epoch 15/15\n",
      "60000/60000 [==============================] - 54s 894us/step - loss: 0.0044 - acc: 0.9994\n",
      "epochs is 5 batch_size is 64\n",
      "Epoch 1/5\n",
      "60000/60000 [==============================] - 59s 977us/step - loss: 0.0022 - acc: 0.9998\n",
      "Epoch 2/5\n",
      "60000/60000 [==============================] - 57s 956us/step - loss: 0.0019 - acc: 0.9997\n",
      "Epoch 3/5\n",
      "60000/60000 [==============================] - 52s 869us/step - loss: 0.0027 - acc: 0.9996\n",
      "Epoch 4/5\n",
      "60000/60000 [==============================] - 50s 836us/step - loss: 0.0028 - acc: 0.9996\n",
      "Epoch 5/5\n",
      "60000/60000 [==============================] - 50s 837us/step - loss: 0.0023 - acc: 0.9997\n",
      "epochs is 10 batch_size is 64\n",
      "Epoch 1/10\n",
      "60000/60000 [==============================] - 51s 845us/step - loss: 0.0013 - acc: 0.9998\n",
      "Epoch 2/10\n",
      "60000/60000 [==============================] - 50s 840us/step - loss: 0.0019 - acc: 0.9998\n",
      "Epoch 3/10\n",
      "60000/60000 [==============================] - 57s 958us/step - loss: 0.0019 - acc: 0.9997\n",
      "Epoch 4/10\n",
      "60000/60000 [==============================] - 75s 1ms/step - loss: 0.0018 - acc: 0.9998\n",
      "Epoch 5/10\n",
      "60000/60000 [==============================] - 66s 1ms/step - loss: 9.1153e-04 - acc: 0.9998\n",
      "Epoch 6/10\n",
      "60000/60000 [==============================] - 67s 1ms/step - loss: 0.0016 - acc: 0.9998\n",
      "Epoch 7/10\n",
      "60000/60000 [==============================] - 59s 985us/step - loss: 0.0015 - acc: 0.9998\n",
      "Epoch 8/10\n",
      "60000/60000 [==============================] - 58s 973us/step - loss: 0.0019 - acc: 0.9998\n",
      "Epoch 9/10\n",
      "60000/60000 [==============================] - 57s 944us/step - loss: 0.0025 - acc: 0.9996\n",
      "Epoch 10/10\n",
      "60000/60000 [==============================] - 61s 1ms/step - loss: 0.0016 - acc: 0.9998\n",
      "epochs is 15 batch_size is 64\n",
      "Epoch 1/15\n",
      "60000/60000 [==============================] - 69s 1ms/step - loss: 0.0030 - acc: 0.9996\n",
      "Epoch 2/15\n",
      "60000/60000 [==============================] - 69s 1ms/step - loss: 0.0021 - acc: 0.9997\n",
      "Epoch 3/15\n",
      "60000/60000 [==============================] - 66s 1ms/step - loss: 0.0019 - acc: 0.9998\n",
      "Epoch 4/15\n",
      "60000/60000 [==============================] - 67s 1ms/step - loss: 0.0028 - acc: 0.9996\n",
      "Epoch 5/15\n",
      "60000/60000 [==============================] - 58s 974us/step - loss: 0.0030 - acc: 0.9996\n",
      "Epoch 6/15\n",
      "60000/60000 [==============================] - 60s 996us/step - loss: 0.0021 - acc: 0.9997\n",
      "Epoch 7/15\n",
      "60000/60000 [==============================] - 71s 1ms/step - loss: 0.0017 - acc: 0.9998\n",
      "Epoch 8/15\n",
      "60000/60000 [==============================] - 70s 1ms/step - loss: 0.0029 - acc: 0.9997\n",
      "Epoch 9/15\n",
      "60000/60000 [==============================] - 58s 972us/step - loss: 0.0013 - acc: 0.9998\n",
      "Epoch 10/15\n",
      "60000/60000 [==============================] - 54s 894us/step - loss: 0.0013 - acc: 0.9999\n",
      "Epoch 11/15\n",
      "60000/60000 [==============================] - 52s 872us/step - loss: 9.9039e-04 - acc: 0.9999\n",
      "Epoch 12/15\n",
      "60000/60000 [==============================] - 53s 877us/step - loss: 0.0017 - acc: 0.9998\n",
      "Epoch 13/15\n",
      "60000/60000 [==============================] - 50s 838us/step - loss: 6.9095e-04 - acc: 0.9999\n",
      "Epoch 14/15\n",
      "60000/60000 [==============================] - 51s 847us/step - loss: 0.0013 - acc: 0.9998\n",
      "Epoch 15/15\n",
      "60000/60000 [==============================] - 54s 899us/step - loss: 0.0014 - acc: 0.9998\n",
      "epochs is 5 batch_size is 128\n",
      "Epoch 1/5\n",
      "60000/60000 [==============================] - 53s 876us/step - loss: 0.0016 - acc: 0.9998\n",
      "Epoch 2/5\n",
      "60000/60000 [==============================] - 52s 864us/step - loss: 8.0256e-04 - acc: 0.9999\n",
      "Epoch 3/5\n",
      "60000/60000 [==============================] - 52s 860us/step - loss: 0.0014 - acc: 0.9998\n",
      "Epoch 4/5\n",
      "60000/60000 [==============================] - 53s 890us/step - loss: 6.4332e-04 - acc: 1.0000\n",
      "Epoch 5/5\n",
      "60000/60000 [==============================] - 56s 937us/step - loss: 0.0012 - acc: 0.9999\n",
      "epochs is 10 batch_size is 128\n",
      "Epoch 1/10\n",
      "60000/60000 [==============================] - 54s 906us/step - loss: 8.0516e-04 - acc: 0.9999\n",
      "Epoch 2/10\n",
      "60000/60000 [==============================] - 55s 911us/step - loss: 9.6833e-04 - acc: 0.9999\n",
      "Epoch 3/10\n",
      "60000/60000 [==============================] - 54s 894us/step - loss: 6.1575e-04 - acc: 0.9999\n",
      "Epoch 4/10\n",
      "60000/60000 [==============================] - 53s 889us/step - loss: 0.0011 - acc: 0.9999\n",
      "Epoch 5/10\n",
      "60000/60000 [==============================] - 52s 872us/step - loss: 5.5986e-04 - acc: 1.0000\n",
      "Epoch 6/10\n",
      "60000/60000 [==============================] - 52s 866us/step - loss: 7.2192e-04 - acc: 1.0000\n",
      "Epoch 7/10\n",
      "60000/60000 [==============================] - 51s 855us/step - loss: 5.4040e-04 - acc: 1.0000\n",
      "Epoch 8/10\n",
      "60000/60000 [==============================] - 52s 875us/step - loss: 5.3739e-04 - acc: 1.0000\n",
      "Epoch 9/10\n",
      "60000/60000 [==============================] - 53s 886us/step - loss: 5.3739e-04 - acc: 1.0000\n",
      "Epoch 10/10\n",
      "60000/60000 [==============================] - 52s 874us/step - loss: 5.3739e-04 - acc: 1.0000\n",
      "epochs is 15 batch_size is 128\n",
      "Epoch 1/15\n",
      "60000/60000 [==============================] - 56s 930us/step - loss: 5.3739e-04 - acc: 1.0000\n",
      "Epoch 2/15\n",
      "60000/60000 [==============================] - 56s 927us/step - loss: 5.3739e-04 - acc: 1.0000\n",
      "Epoch 3/15\n",
      "60000/60000 [==============================] - 69s 1ms/step - loss: 5.3739e-04 - acc: 1.0000\n",
      "Epoch 4/15\n",
      "60000/60000 [==============================] - 60s 1ms/step - loss: 5.3739e-04 - acc: 1.0000\n",
      "Epoch 5/15\n",
      "60000/60000 [==============================] - 54s 901us/step - loss: 5.3739e-04 - acc: 1.0000\n",
      "Epoch 6/15\n",
      "60000/60000 [==============================] - 53s 890us/step - loss: 5.3739e-04 - acc: 1.0000\n",
      "Epoch 7/15\n",
      "60000/60000 [==============================] - 72s 1ms/step - loss: 5.3739e-04 - acc: 1.0000\n",
      "Epoch 8/15\n",
      "60000/60000 [==============================] - 58s 961us/step - loss: 5.3739e-04 - acc: 1.0000\n",
      "Epoch 9/15\n",
      "60000/60000 [==============================] - 58s 973us/step - loss: 5.3739e-04 - acc: 1.0000\n",
      "Epoch 10/15\n",
      "60000/60000 [==============================] - 56s 937us/step - loss: 5.3739e-04 - acc: 1.0000\n",
      "Epoch 11/15\n",
      "60000/60000 [==============================] - 58s 971us/step - loss: 5.3739e-04 - acc: 1.0000\n",
      "Epoch 12/15\n",
      "60000/60000 [==============================] - 61s 1ms/step - loss: 5.3739e-04 - acc: 1.0000\n",
      "Epoch 13/15\n",
      "60000/60000 [==============================] - 79s 1ms/step - loss: 5.3739e-04 - acc: 1.0000\n",
      "Epoch 14/15\n",
      "60000/60000 [==============================] - 91s 2ms/step - loss: 5.3739e-04 - acc: 1.0000\n",
      "Epoch 15/15\n",
      "60000/60000 [==============================] - 90s 1ms/step - loss: 5.3739e-04 - acc: 1.0000\n"
     ]
    }
   ],
   "source": [
    "MINI_BATCH_SIZE = [32, 64, 128]\n",
    "NUM_EPOCHS = [5, 10, 15]\n",
    "\n",
    "for b in range(len(MINI_BATCH_SIZE)):\n",
    "    batch_size = MINI_BATCH_SIZE[b]\n",
    "    for e in range(len(NUM_EPOCHS)):\n",
    "        epochs = NUM_EPOCHS[e]\n",
    "        print(\"epochs is %s\"%epochs, \"batch_size is %s\"%batch_size)\n",
    "        history = model.fit(train_images, train_labels, epochs=epochs, batch_size=batch_size)"
   ]
  },
  {
   "cell_type": "code",
   "execution_count": null,
   "metadata": {},
   "outputs": [],
   "source": []
  },
  {
   "cell_type": "markdown",
   "metadata": {},
   "source": [
    "## 6. Evaluate Model"
   ]
  },
  {
   "cell_type": "code",
   "execution_count": 41,
   "metadata": {},
   "outputs": [
    {
     "name": "stdout",
     "output_type": "stream",
     "text": [
      "10000/10000 [==============================] - 6s 560us/step\n"
     ]
    },
    {
     "data": {
      "text/plain": [
       "[0.08627175804690473, 0.9934]"
      ]
     },
     "execution_count": 41,
     "metadata": {},
     "output_type": "execute_result"
    }
   ],
   "source": [
    "model.evaluate(test_images, test_labels)"
   ]
  },
  {
   "cell_type": "code",
   "execution_count": 42,
   "metadata": {},
   "outputs": [
    {
     "name": "stdout",
     "output_type": "stream",
     "text": [
      "10000/10000 [==============================] - 5s 533us/step\n"
     ]
    }
   ],
   "source": [
    "test_loss, test_accuracy = model.evaluate(test_images, test_labels)"
   ]
  },
  {
   "cell_type": "code",
   "execution_count": 43,
   "metadata": {},
   "outputs": [
    {
     "data": {
      "text/plain": [
       "0.08627175804690473"
      ]
     },
     "execution_count": 43,
     "metadata": {},
     "output_type": "execute_result"
    }
   ],
   "source": [
    "test_loss"
   ]
  },
  {
   "cell_type": "code",
   "execution_count": 44,
   "metadata": {},
   "outputs": [
    {
     "data": {
      "text/plain": [
       "0.9934"
      ]
     },
     "execution_count": 44,
     "metadata": {},
     "output_type": "execute_result"
    }
   ],
   "source": [
    "test_accuracy"
   ]
  }
 ],
 "metadata": {
  "kernelspec": {
   "display_name": "Python 3",
   "language": "python",
   "name": "python3"
  },
  "language_info": {
   "codemirror_mode": {
    "name": "ipython",
    "version": 3
   },
   "file_extension": ".py",
   "mimetype": "text/x-python",
   "name": "python",
   "nbconvert_exporter": "python",
   "pygments_lexer": "ipython3",
   "version": "3.5.1"
  }
 },
 "nbformat": 4,
 "nbformat_minor": 2
}
